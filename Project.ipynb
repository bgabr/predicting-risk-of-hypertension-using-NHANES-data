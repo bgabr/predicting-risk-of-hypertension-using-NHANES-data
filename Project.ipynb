{
 "cells": [
  {
   "cell_type": "code",
   "execution_count": 1,
   "id": "5bad0817",
   "metadata": {},
   "outputs": [],
   "source": [
    "import pandas as pd"
   ]
  },
  {
   "cell_type": "code",
   "execution_count": 2,
   "id": "43bf9a19",
   "metadata": {},
   "outputs": [],
   "source": [
    "demo_2017_2020 = pd.read_sas(\"demographic/demo_2017_2020.XPT\");\n",
    "demo_2015_2016 = pd.read_sas(\"demographic/demo_2015_2016.XPT\");\n",
    "demo_2013_2014 = pd.read_sas(\"demographic/demo_2013_2014.XPT\");\n",
    "demo_2011_2012 = pd.read_sas(\"demographic/demo_2011_2012.XPT\");\n",
    "demo_2009_2010 = pd.read_sas(\"demographic/demo_2009_2010.XPT\");\n",
    "demo_2007_2008 = pd.read_sas(\"demographic/demo_2007_2008.XPT\");"
   ]
  },
  {
   "cell_type": "code",
   "execution_count": null,
   "id": "b92f41a6",
   "metadata": {},
   "outputs": [],
   "source": []
  },
  {
   "cell_type": "code",
   "execution_count": 3,
   "id": "346f7755",
   "metadata": {},
   "outputs": [],
   "source": [
    "demo_17_20_list = demo_2017_2020.columns.tolist()"
   ]
  },
  {
   "cell_type": "code",
   "execution_count": 4,
   "id": "d537a3ca",
   "metadata": {},
   "outputs": [],
   "source": [
    "demo_15_16_list = demo_2015_2016.columns.tolist()"
   ]
  },
  {
   "cell_type": "code",
   "execution_count": 5,
   "id": "5289e679",
   "metadata": {},
   "outputs": [],
   "source": [
    "demo_13_14_list = demo_2013_2014.columns.tolist()"
   ]
  },
  {
   "cell_type": "code",
   "execution_count": 6,
   "id": "6c14163e",
   "metadata": {},
   "outputs": [],
   "source": [
    "demo_11_12_list = demo_2011_2012.columns.tolist()"
   ]
  },
  {
   "cell_type": "code",
   "execution_count": 7,
   "id": "97372ba7",
   "metadata": {},
   "outputs": [],
   "source": [
    "demo_09_10_list = demo_2009_2010.columns.tolist()"
   ]
  },
  {
   "cell_type": "code",
   "execution_count": 8,
   "id": "cbdda8cd",
   "metadata": {},
   "outputs": [],
   "source": [
    "demo_07_08_list = demo_2007_2008.columns.tolist()"
   ]
  },
  {
   "cell_type": "code",
   "execution_count": 9,
   "id": "027bc313",
   "metadata": {},
   "outputs": [],
   "source": [
    "intersect_col = set(demo_17_20_list).intersection(demo_15_16_list).intersection(demo_13_14_list).intersection(demo_11_12_list).intersection(demo_09_10_list).intersection(demo_07_08_list)"
   ]
  },
  {
   "cell_type": "code",
   "execution_count": 10,
   "id": "9ccabad3",
   "metadata": {},
   "outputs": [],
   "source": [
    "#intersect_col"
   ]
  },
  {
   "cell_type": "code",
   "execution_count": 11,
   "id": "df87c192",
   "metadata": {},
   "outputs": [
    {
     "data": {
      "text/plain": [
       "15560"
      ]
     },
     "execution_count": 11,
     "metadata": {},
     "output_type": "execute_result"
    }
   ],
   "source": [
    "demo_17_20_filtered = pd.DataFrame(demo_2017_2020, columns=intersect_col)\n",
    "demo_17_20_filtered.shape[0]"
   ]
  },
  {
   "cell_type": "code",
   "execution_count": 12,
   "id": "2e303f4b",
   "metadata": {},
   "outputs": [
    {
     "data": {
      "text/plain": [
       "9971"
      ]
     },
     "execution_count": 12,
     "metadata": {},
     "output_type": "execute_result"
    }
   ],
   "source": [
    "demo_15_16_filtered = pd.DataFrame(demo_2015_2016, columns=intersect_col)\n",
    "demo_15_16_filtered.shape[0]"
   ]
  },
  {
   "cell_type": "code",
   "execution_count": 13,
   "id": "e201b99f",
   "metadata": {},
   "outputs": [
    {
     "data": {
      "text/plain": [
       "10175"
      ]
     },
     "execution_count": 13,
     "metadata": {},
     "output_type": "execute_result"
    }
   ],
   "source": [
    "demo_13_14_filtered = pd.DataFrame(demo_2013_2014, columns=intersect_col)\n",
    "demo_13_14_filtered.shape[0]"
   ]
  },
  {
   "cell_type": "code",
   "execution_count": 14,
   "id": "479c5037",
   "metadata": {},
   "outputs": [
    {
     "data": {
      "text/plain": [
       "9756"
      ]
     },
     "execution_count": 14,
     "metadata": {},
     "output_type": "execute_result"
    }
   ],
   "source": [
    "demo_11_12_filtered = pd.DataFrame(demo_2011_2012, columns=intersect_col)\n",
    "demo_11_12_filtered.shape[0]"
   ]
  },
  {
   "cell_type": "code",
   "execution_count": 15,
   "id": "91eec748",
   "metadata": {},
   "outputs": [
    {
     "data": {
      "text/plain": [
       "10537"
      ]
     },
     "execution_count": 15,
     "metadata": {},
     "output_type": "execute_result"
    }
   ],
   "source": [
    "demo_09_10_filtered = pd.DataFrame(demo_2009_2010, columns=intersect_col)\n",
    "demo_09_10_filtered.shape[0]"
   ]
  },
  {
   "cell_type": "code",
   "execution_count": 16,
   "id": "a2ddc1a0",
   "metadata": {},
   "outputs": [
    {
     "data": {
      "text/plain": [
       "10149"
      ]
     },
     "execution_count": 16,
     "metadata": {},
     "output_type": "execute_result"
    }
   ],
   "source": [
    "demo_07_08_filtered = pd.DataFrame(demo_2007_2008, columns=intersect_col)\n",
    "demo_07_08_filtered.shape[0]"
   ]
  },
  {
   "cell_type": "code",
   "execution_count": 17,
   "id": "26350f65",
   "metadata": {},
   "outputs": [
    {
     "data": {
      "text/plain": [
       "66148"
      ]
     },
     "execution_count": 17,
     "metadata": {},
     "output_type": "execute_result"
    }
   ],
   "source": [
    "demo_final = demo_17_20_filtered.append(demo_15_16_filtered)\n",
    "demo_final = demo_final.append(demo_13_14_filtered)\n",
    "demo_final = demo_final.append(demo_11_12_filtered)\n",
    "demo_final = demo_final.append(demo_09_10_filtered)\n",
    "demo_final = demo_final.append(demo_07_08_filtered)\n",
    "demo_final.shape[0]"
   ]
  },
  {
   "cell_type": "code",
   "execution_count": 18,
   "id": "9d1a25ed",
   "metadata": {},
   "outputs": [
    {
     "data": {
      "text/html": [
       "<div>\n",
       "<style scoped>\n",
       "    .dataframe tbody tr th:only-of-type {\n",
       "        vertical-align: middle;\n",
       "    }\n",
       "\n",
       "    .dataframe tbody tr th {\n",
       "        vertical-align: top;\n",
       "    }\n",
       "\n",
       "    .dataframe thead th {\n",
       "        text-align: right;\n",
       "    }\n",
       "</style>\n",
       "<table border=\"1\" class=\"dataframe\">\n",
       "  <thead>\n",
       "    <tr style=\"text-align: right;\">\n",
       "      <th></th>\n",
       "      <th>RIDEXMON</th>\n",
       "      <th>SIAINTRP</th>\n",
       "      <th>RIDAGEYR</th>\n",
       "      <th>SDMVSTRA</th>\n",
       "      <th>MIALANG</th>\n",
       "      <th>DMDEDUC2</th>\n",
       "      <th>RIDEXPRG</th>\n",
       "      <th>FIALANG</th>\n",
       "      <th>RIDSTATR</th>\n",
       "      <th>RIDRETH1</th>\n",
       "      <th>...</th>\n",
       "      <th>MIAPROXY</th>\n",
       "      <th>SIALANG</th>\n",
       "      <th>SIAPROXY</th>\n",
       "      <th>SEQN</th>\n",
       "      <th>RIAGENDR</th>\n",
       "      <th>SDMVPSU</th>\n",
       "      <th>SDDSRVYR</th>\n",
       "      <th>INDFMPIR</th>\n",
       "      <th>RIDAGEMN</th>\n",
       "      <th>MIAINTRP</th>\n",
       "    </tr>\n",
       "  </thead>\n",
       "  <tbody>\n",
       "    <tr>\n",
       "      <th>0</th>\n",
       "      <td>2.0</td>\n",
       "      <td>2.0</td>\n",
       "      <td>2.0</td>\n",
       "      <td>156.0</td>\n",
       "      <td>NaN</td>\n",
       "      <td>NaN</td>\n",
       "      <td>NaN</td>\n",
       "      <td>1.0</td>\n",
       "      <td>2.0</td>\n",
       "      <td>5.0</td>\n",
       "      <td>...</td>\n",
       "      <td>NaN</td>\n",
       "      <td>1.0</td>\n",
       "      <td>1.0</td>\n",
       "      <td>109263.0</td>\n",
       "      <td>1.0</td>\n",
       "      <td>3.0</td>\n",
       "      <td>66.0</td>\n",
       "      <td>4.66</td>\n",
       "      <td>NaN</td>\n",
       "      <td>NaN</td>\n",
       "    </tr>\n",
       "    <tr>\n",
       "      <th>1</th>\n",
       "      <td>2.0</td>\n",
       "      <td>2.0</td>\n",
       "      <td>13.0</td>\n",
       "      <td>155.0</td>\n",
       "      <td>1.0</td>\n",
       "      <td>NaN</td>\n",
       "      <td>NaN</td>\n",
       "      <td>1.0</td>\n",
       "      <td>2.0</td>\n",
       "      <td>1.0</td>\n",
       "      <td>...</td>\n",
       "      <td>2.0</td>\n",
       "      <td>1.0</td>\n",
       "      <td>1.0</td>\n",
       "      <td>109264.0</td>\n",
       "      <td>2.0</td>\n",
       "      <td>1.0</td>\n",
       "      <td>66.0</td>\n",
       "      <td>0.83</td>\n",
       "      <td>NaN</td>\n",
       "      <td>2.0</td>\n",
       "    </tr>\n",
       "    <tr>\n",
       "      <th>2</th>\n",
       "      <td>2.0</td>\n",
       "      <td>2.0</td>\n",
       "      <td>2.0</td>\n",
       "      <td>157.0</td>\n",
       "      <td>NaN</td>\n",
       "      <td>NaN</td>\n",
       "      <td>NaN</td>\n",
       "      <td>1.0</td>\n",
       "      <td>2.0</td>\n",
       "      <td>3.0</td>\n",
       "      <td>...</td>\n",
       "      <td>NaN</td>\n",
       "      <td>1.0</td>\n",
       "      <td>1.0</td>\n",
       "      <td>109265.0</td>\n",
       "      <td>1.0</td>\n",
       "      <td>1.0</td>\n",
       "      <td>66.0</td>\n",
       "      <td>3.06</td>\n",
       "      <td>NaN</td>\n",
       "      <td>NaN</td>\n",
       "    </tr>\n",
       "    <tr>\n",
       "      <th>3</th>\n",
       "      <td>2.0</td>\n",
       "      <td>2.0</td>\n",
       "      <td>29.0</td>\n",
       "      <td>168.0</td>\n",
       "      <td>1.0</td>\n",
       "      <td>5.0</td>\n",
       "      <td>2.0</td>\n",
       "      <td>1.0</td>\n",
       "      <td>2.0</td>\n",
       "      <td>5.0</td>\n",
       "      <td>...</td>\n",
       "      <td>2.0</td>\n",
       "      <td>1.0</td>\n",
       "      <td>2.0</td>\n",
       "      <td>109266.0</td>\n",
       "      <td>2.0</td>\n",
       "      <td>2.0</td>\n",
       "      <td>66.0</td>\n",
       "      <td>5.00</td>\n",
       "      <td>NaN</td>\n",
       "      <td>2.0</td>\n",
       "    </tr>\n",
       "    <tr>\n",
       "      <th>4</th>\n",
       "      <td>NaN</td>\n",
       "      <td>2.0</td>\n",
       "      <td>21.0</td>\n",
       "      <td>156.0</td>\n",
       "      <td>NaN</td>\n",
       "      <td>4.0</td>\n",
       "      <td>3.0</td>\n",
       "      <td>1.0</td>\n",
       "      <td>1.0</td>\n",
       "      <td>2.0</td>\n",
       "      <td>...</td>\n",
       "      <td>NaN</td>\n",
       "      <td>1.0</td>\n",
       "      <td>2.0</td>\n",
       "      <td>109267.0</td>\n",
       "      <td>2.0</td>\n",
       "      <td>1.0</td>\n",
       "      <td>66.0</td>\n",
       "      <td>5.00</td>\n",
       "      <td>NaN</td>\n",
       "      <td>NaN</td>\n",
       "    </tr>\n",
       "  </tbody>\n",
       "</table>\n",
       "<p>5 rows × 22 columns</p>\n",
       "</div>"
      ],
      "text/plain": [
       "   RIDEXMON  SIAINTRP  RIDAGEYR  SDMVSTRA  MIALANG  DMDEDUC2  RIDEXPRG  \\\n",
       "0       2.0       2.0       2.0     156.0      NaN       NaN       NaN   \n",
       "1       2.0       2.0      13.0     155.0      1.0       NaN       NaN   \n",
       "2       2.0       2.0       2.0     157.0      NaN       NaN       NaN   \n",
       "3       2.0       2.0      29.0     168.0      1.0       5.0       2.0   \n",
       "4       NaN       2.0      21.0     156.0      NaN       4.0       3.0   \n",
       "\n",
       "   FIALANG  RIDSTATR  RIDRETH1  ...  MIAPROXY  SIALANG  SIAPROXY      SEQN  \\\n",
       "0      1.0       2.0       5.0  ...       NaN      1.0       1.0  109263.0   \n",
       "1      1.0       2.0       1.0  ...       2.0      1.0       1.0  109264.0   \n",
       "2      1.0       2.0       3.0  ...       NaN      1.0       1.0  109265.0   \n",
       "3      1.0       2.0       5.0  ...       2.0      1.0       2.0  109266.0   \n",
       "4      1.0       1.0       2.0  ...       NaN      1.0       2.0  109267.0   \n",
       "\n",
       "   RIAGENDR  SDMVPSU  SDDSRVYR  INDFMPIR  RIDAGEMN  MIAINTRP  \n",
       "0       1.0      3.0      66.0      4.66       NaN       NaN  \n",
       "1       2.0      1.0      66.0      0.83       NaN       2.0  \n",
       "2       1.0      1.0      66.0      3.06       NaN       NaN  \n",
       "3       2.0      2.0      66.0      5.00       NaN       2.0  \n",
       "4       2.0      1.0      66.0      5.00       NaN       NaN  \n",
       "\n",
       "[5 rows x 22 columns]"
      ]
     },
     "execution_count": 18,
     "metadata": {},
     "output_type": "execute_result"
    }
   ],
   "source": [
    "demo_final.head()"
   ]
  },
  {
   "cell_type": "code",
   "execution_count": 19,
   "id": "7dce7a3e",
   "metadata": {},
   "outputs": [
    {
     "data": {
      "text/html": [
       "<div>\n",
       "<style scoped>\n",
       "    .dataframe tbody tr th:only-of-type {\n",
       "        vertical-align: middle;\n",
       "    }\n",
       "\n",
       "    .dataframe tbody tr th {\n",
       "        vertical-align: top;\n",
       "    }\n",
       "\n",
       "    .dataframe thead th {\n",
       "        text-align: right;\n",
       "    }\n",
       "</style>\n",
       "<table border=\"1\" class=\"dataframe\">\n",
       "  <thead>\n",
       "    <tr style=\"text-align: right;\">\n",
       "      <th></th>\n",
       "      <th>RIDEXMON</th>\n",
       "      <th>SIAINTRP</th>\n",
       "      <th>RIDAGEYR</th>\n",
       "      <th>SDMVSTRA</th>\n",
       "      <th>MIALANG</th>\n",
       "      <th>DMDEDUC2</th>\n",
       "      <th>RIDEXPRG</th>\n",
       "      <th>FIALANG</th>\n",
       "      <th>RIDSTATR</th>\n",
       "      <th>RIDRETH1</th>\n",
       "      <th>...</th>\n",
       "      <th>MIAPROXY</th>\n",
       "      <th>SIALANG</th>\n",
       "      <th>SIAPROXY</th>\n",
       "      <th>SEQN</th>\n",
       "      <th>RIAGENDR</th>\n",
       "      <th>SDMVPSU</th>\n",
       "      <th>SDDSRVYR</th>\n",
       "      <th>INDFMPIR</th>\n",
       "      <th>RIDAGEMN</th>\n",
       "      <th>MIAINTRP</th>\n",
       "    </tr>\n",
       "  </thead>\n",
       "  <tbody>\n",
       "    <tr>\n",
       "      <th>0</th>\n",
       "      <td>2.0</td>\n",
       "      <td>2.0</td>\n",
       "      <td>2.0</td>\n",
       "      <td>156.0</td>\n",
       "      <td>NaN</td>\n",
       "      <td>NaN</td>\n",
       "      <td>NaN</td>\n",
       "      <td>1.0</td>\n",
       "      <td>2.0</td>\n",
       "      <td>5.0</td>\n",
       "      <td>...</td>\n",
       "      <td>NaN</td>\n",
       "      <td>1.0</td>\n",
       "      <td>1.0</td>\n",
       "      <td>109263.0</td>\n",
       "      <td>1.0</td>\n",
       "      <td>3.0</td>\n",
       "      <td>66.0</td>\n",
       "      <td>4.66</td>\n",
       "      <td>NaN</td>\n",
       "      <td>NaN</td>\n",
       "    </tr>\n",
       "    <tr>\n",
       "      <th>1</th>\n",
       "      <td>2.0</td>\n",
       "      <td>2.0</td>\n",
       "      <td>13.0</td>\n",
       "      <td>155.0</td>\n",
       "      <td>1.0</td>\n",
       "      <td>NaN</td>\n",
       "      <td>NaN</td>\n",
       "      <td>1.0</td>\n",
       "      <td>2.0</td>\n",
       "      <td>1.0</td>\n",
       "      <td>...</td>\n",
       "      <td>2.0</td>\n",
       "      <td>1.0</td>\n",
       "      <td>1.0</td>\n",
       "      <td>109264.0</td>\n",
       "      <td>2.0</td>\n",
       "      <td>1.0</td>\n",
       "      <td>66.0</td>\n",
       "      <td>0.83</td>\n",
       "      <td>NaN</td>\n",
       "      <td>2.0</td>\n",
       "    </tr>\n",
       "    <tr>\n",
       "      <th>2</th>\n",
       "      <td>2.0</td>\n",
       "      <td>2.0</td>\n",
       "      <td>2.0</td>\n",
       "      <td>157.0</td>\n",
       "      <td>NaN</td>\n",
       "      <td>NaN</td>\n",
       "      <td>NaN</td>\n",
       "      <td>1.0</td>\n",
       "      <td>2.0</td>\n",
       "      <td>3.0</td>\n",
       "      <td>...</td>\n",
       "      <td>NaN</td>\n",
       "      <td>1.0</td>\n",
       "      <td>1.0</td>\n",
       "      <td>109265.0</td>\n",
       "      <td>1.0</td>\n",
       "      <td>1.0</td>\n",
       "      <td>66.0</td>\n",
       "      <td>3.06</td>\n",
       "      <td>NaN</td>\n",
       "      <td>NaN</td>\n",
       "    </tr>\n",
       "    <tr>\n",
       "      <th>3</th>\n",
       "      <td>2.0</td>\n",
       "      <td>2.0</td>\n",
       "      <td>29.0</td>\n",
       "      <td>168.0</td>\n",
       "      <td>1.0</td>\n",
       "      <td>5.0</td>\n",
       "      <td>2.0</td>\n",
       "      <td>1.0</td>\n",
       "      <td>2.0</td>\n",
       "      <td>5.0</td>\n",
       "      <td>...</td>\n",
       "      <td>2.0</td>\n",
       "      <td>1.0</td>\n",
       "      <td>2.0</td>\n",
       "      <td>109266.0</td>\n",
       "      <td>2.0</td>\n",
       "      <td>2.0</td>\n",
       "      <td>66.0</td>\n",
       "      <td>5.00</td>\n",
       "      <td>NaN</td>\n",
       "      <td>2.0</td>\n",
       "    </tr>\n",
       "    <tr>\n",
       "      <th>4</th>\n",
       "      <td>NaN</td>\n",
       "      <td>2.0</td>\n",
       "      <td>21.0</td>\n",
       "      <td>156.0</td>\n",
       "      <td>NaN</td>\n",
       "      <td>4.0</td>\n",
       "      <td>3.0</td>\n",
       "      <td>1.0</td>\n",
       "      <td>1.0</td>\n",
       "      <td>2.0</td>\n",
       "      <td>...</td>\n",
       "      <td>NaN</td>\n",
       "      <td>1.0</td>\n",
       "      <td>2.0</td>\n",
       "      <td>109267.0</td>\n",
       "      <td>2.0</td>\n",
       "      <td>1.0</td>\n",
       "      <td>66.0</td>\n",
       "      <td>5.00</td>\n",
       "      <td>NaN</td>\n",
       "      <td>NaN</td>\n",
       "    </tr>\n",
       "  </tbody>\n",
       "</table>\n",
       "<p>5 rows × 22 columns</p>\n",
       "</div>"
      ],
      "text/plain": [
       "   RIDEXMON  SIAINTRP  RIDAGEYR  SDMVSTRA  MIALANG  DMDEDUC2  RIDEXPRG  \\\n",
       "0       2.0       2.0       2.0     156.0      NaN       NaN       NaN   \n",
       "1       2.0       2.0      13.0     155.0      1.0       NaN       NaN   \n",
       "2       2.0       2.0       2.0     157.0      NaN       NaN       NaN   \n",
       "3       2.0       2.0      29.0     168.0      1.0       5.0       2.0   \n",
       "4       NaN       2.0      21.0     156.0      NaN       4.0       3.0   \n",
       "\n",
       "   FIALANG  RIDSTATR  RIDRETH1  ...  MIAPROXY  SIALANG  SIAPROXY      SEQN  \\\n",
       "0      1.0       2.0       5.0  ...       NaN      1.0       1.0  109263.0   \n",
       "1      1.0       2.0       1.0  ...       2.0      1.0       1.0  109264.0   \n",
       "2      1.0       2.0       3.0  ...       NaN      1.0       1.0  109265.0   \n",
       "3      1.0       2.0       5.0  ...       2.0      1.0       2.0  109266.0   \n",
       "4      1.0       1.0       2.0  ...       NaN      1.0       2.0  109267.0   \n",
       "\n",
       "   RIAGENDR  SDMVPSU  SDDSRVYR  INDFMPIR  RIDAGEMN  MIAINTRP  \n",
       "0       1.0      3.0      66.0      4.66       NaN       NaN  \n",
       "1       2.0      1.0      66.0      0.83       NaN       2.0  \n",
       "2       1.0      1.0      66.0      3.06       NaN       NaN  \n",
       "3       2.0      2.0      66.0      5.00       NaN       2.0  \n",
       "4       2.0      1.0      66.0      5.00       NaN       NaN  \n",
       "\n",
       "[5 rows x 22 columns]"
      ]
     },
     "execution_count": 19,
     "metadata": {},
     "output_type": "execute_result"
    }
   ],
   "source": [
    "demo_final.head()"
   ]
  },
  {
   "cell_type": "code",
   "execution_count": 20,
   "id": "437d6076",
   "metadata": {},
   "outputs": [],
   "source": [
    "#diet_2017_2020 = pd.read_sas(\"./demographic/demo_2017_2020.XPT\");\n",
    "#diet_2015_2016 = pd.read_sas(\"./demographic/demo_2015_2016.XPT\");\n",
    "#diet_2013_2014 = pd.read_sas(\"./demographic/demo_2013_2014.XPT\");\n",
    "#diet_2011_2012 = pd.read_sas(\"./demographic/demo_2011_2012.XPT\");\n",
    "#diet_2009_2010 = pd.read_sas(\"./demographic/demo_2009_2010.XPT\");\n",
    "#diet_2007_2008 = pd.read_sas(\"./demographic/demo_2007_2008.XPT\");"
   ]
  },
  {
   "cell_type": "code",
   "execution_count": null,
   "id": "72611ce6",
   "metadata": {},
   "outputs": [],
   "source": []
  },
  {
   "cell_type": "code",
   "execution_count": 21,
   "id": "b82a8549",
   "metadata": {},
   "outputs": [],
   "source": [
    "def combinedata(_2017_2020,_2015_2016,_2013_2014,_2011_2012,_2009_2010,_2007_2008):\n",
    "    _17_20_list = _2017_2020.columns.tolist()\n",
    "    _15_16_list = _2015_2016.columns.tolist()\n",
    "    _13_14_list = _2013_2014.columns.tolist()\n",
    "    _11_12_list = _2011_2012.columns.tolist()\n",
    "    _09_10_list = _2009_2010.columns.tolist()\n",
    "    _07_08_list = _2007_2008.columns.tolist()\n",
    "    \n",
    "    intersect_col = set(_17_20_list).intersection(_15_16_list).intersection(_13_14_list).intersection(_11_12_list).intersection(_09_10_list).intersection(_07_08_list)\n",
    "    \n",
    "    _17_20_filtered = pd.DataFrame(_2017_2020, columns=intersect_col)\n",
    "    _15_16_filtered = pd.DataFrame(_2015_2016, columns=intersect_col)\n",
    "    _13_14_filtered = pd.DataFrame(_2013_2014, columns=intersect_col)\n",
    "    _11_12_filtered = pd.DataFrame(_2011_2012, columns=intersect_col)\n",
    "    _09_10_filtered = pd.DataFrame(_2009_2010, columns=intersect_col)\n",
    "    _07_08_filtered = pd.DataFrame(_2007_2008, columns=intersect_col)\n",
    "    print(intersect_col)\n",
    "    \n",
    "    _final = _17_20_filtered.append(_15_16_filtered)\n",
    "    _final = _final.append(_13_14_filtered)\n",
    "    _final = _final.append(_11_12_filtered)\n",
    "    _final = _final.append(_09_10_filtered)\n",
    "    _final = _final.append(_07_08_filtered)\n",
    "    \n",
    "    return _final"
   ]
  },
  {
   "cell_type": "code",
   "execution_count": null,
   "id": "5dc688ec",
   "metadata": {},
   "outputs": [],
   "source": []
  },
  {
   "cell_type": "code",
   "execution_count": 22,
   "id": "2bfaa8dc",
   "metadata": {},
   "outputs": [
    {
     "name": "stdout",
     "output_type": "stream",
     "text": [
      "{'RIDEXMON', 'SIAINTRP', 'RIDAGEYR', 'SDMVSTRA', 'MIALANG', 'DMDEDUC2', 'RIDEXPRG', 'FIALANG', 'RIDSTATR', 'RIDRETH1', 'FIAINTRP', 'FIAPROXY', 'MIAPROXY', 'SIALANG', 'SIAPROXY', 'SEQN', 'RIAGENDR', 'SDMVPSU', 'SDDSRVYR', 'INDFMPIR', 'RIDAGEMN', 'MIAINTRP'}\n"
     ]
    }
   ],
   "source": [
    "demo_2017_2020 = pd.read_sas(\"./demographic/demo_2017_2020.XPT\");\n",
    "demo_2015_2016 = pd.read_sas(\"./demographic/demo_2015_2016.XPT\");\n",
    "demo_2013_2014 = pd.read_sas(\"./demographic/demo_2013_2014.XPT\");\n",
    "demo_2011_2012 = pd.read_sas(\"./demographic/demo_2011_2012.XPT\");\n",
    "demo_2009_2010 = pd.read_sas(\"./demographic/demo_2009_2010.XPT\");\n",
    "demo_2007_2008 = pd.read_sas(\"./demographic/demo_2007_2008.XPT\");\n",
    "\n",
    "demo_final = combinedata(demo_2017_2020,demo_2015_2016,demo_2013_2014,demo_2011_2012,demo_2009_2010,demo_2007_2008)"
   ]
  },
  {
   "cell_type": "code",
   "execution_count": null,
   "id": "8f2a96d3",
   "metadata": {},
   "outputs": [],
   "source": []
  },
  {
   "cell_type": "code",
   "execution_count": 23,
   "id": "3953a285",
   "metadata": {},
   "outputs": [
    {
     "name": "stdout",
     "output_type": "stream",
     "text": [
      "{'DSQTFIBE', 'DSQTCALC', 'DSDCOUNT', 'DSQTCARB', 'DSD010', 'DSQTNIAC', 'DSQTFDFE', 'DSQTSELE', 'DSQTPFAT', 'DSQTPROT', 'DSQTVD', 'DSQTVB1', 'DSQTVB2', 'DSQTSUGR', 'DSQTPOTA', 'DSQTSFAT', 'DSQTVK', 'DSQTMFAT', 'DSQTLYCO', 'DSQTLZ', 'DSQTTFAT', 'DSQTVB12', 'DSD010AN', 'DSQTFA', 'DSQTPHOS', 'SEQN', 'DSQTVB6', 'DSQTVC', 'DSQTIRON', 'DSQTCHL', 'DSQTSODI', 'DSQTKCAL', 'DSDANCNT', 'DSQTCHOL', 'DSQTCOPP', 'DSQTMAGN', 'DSQTZINC', 'DSQTCAFF'}\n"
     ]
    }
   ],
   "source": [
    "diet_2017_2020 = pd.read_sas(\"./diet/diet_17_20.XPT\");\n",
    "diet_2015_2016 = pd.read_sas(\"./diet/diet_15_16.XPT\");\n",
    "diet_2013_2014 = pd.read_sas(\"./diet/diet_13_14.XPT\");\n",
    "diet_2011_2012 = pd.read_sas(\"./diet/diet_11_12.XPT\");\n",
    "diet_2009_2010 = pd.read_sas(\"./diet/diet_09_10.XPT\");\n",
    "diet_2007_2008 = pd.read_sas(\"./diet/diet_07_08.XPT\");\n",
    "\n",
    "diet_final = combinedata(diet_2017_2020,diet_2015_2016,diet_2013_2014,diet_2011_2012,diet_2009_2010,diet_2007_2008)"
   ]
  },
  {
   "cell_type": "code",
   "execution_count": null,
   "id": "700ff659",
   "metadata": {},
   "outputs": [],
   "source": []
  },
  {
   "cell_type": "code",
   "execution_count": 24,
   "id": "52439076",
   "metadata": {},
   "outputs": [
    {
     "name": "stdout",
     "output_type": "stream",
     "text": [
      "{'BPQ020', 'BPQ080', 'BPQ050A', 'BPQ100D', 'BPQ090D', 'BPD035', 'BPQ060', 'BPQ070', 'SEQN', 'BPQ040A', 'BPQ030'}\n"
     ]
    }
   ],
   "source": [
    "#blood pressure info for labelling\n",
    "\n",
    "bp_2017_2020 = pd.read_sas(\"./bp/bp_17_20.XPT\");\n",
    "bp_2015_2016 = pd.read_sas(\"./bp/bp_15_16.XPT\");\n",
    "bp_2013_2014 = pd.read_sas(\"./bp/bp_13_14.XPT\");\n",
    "bp_2011_2012 = pd.read_sas(\"./bp/bp_11_12.XPT\");\n",
    "bp_2009_2010 = pd.read_sas(\"./bp/bp_09_10.XPT\");\n",
    "bp_2007_2008 = pd.read_sas(\"./bp/bp_07_08.XPT\");\n",
    "\n",
    "bp_final = combinedata(bp_2017_2020,bp_2015_2016,bp_2013_2014,bp_2011_2012,bp_2009_2010,bp_2007_2008)"
   ]
  },
  {
   "cell_type": "code",
   "execution_count": null,
   "id": "fb9ba7c5",
   "metadata": {},
   "outputs": [],
   "source": []
  },
  {
   "cell_type": "code",
   "execution_count": 25,
   "id": "bb2eb9ef",
   "metadata": {},
   "outputs": [
    {
     "name": "stdout",
     "output_type": "stream",
     "text": [
      "{'ALQ130', 'SEQN'}\n"
     ]
    }
   ],
   "source": [
    "#alcohol data\n",
    "#alc_2017_2020 have different column names compared to prev years\n",
    "\n",
    "alc_2017_2020 = pd.read_sas(\"./alcohol/alc_17_20.XPT\");\n",
    "alc_2015_2016 = pd.read_sas(\"./alcohol/alc_15_16.XPT\");\n",
    "alc_2013_2014 = pd.read_sas(\"./alcohol/alc_13_14.XPT\");\n",
    "alc_2011_2012 = pd.read_sas(\"./alcohol/alc_11_12.XPT\");\n",
    "alc_2009_2010 = pd.read_sas(\"./alcohol/alc_09_10.XPT\");\n",
    "alc_2007_2008 = pd.read_sas(\"./alcohol/alc_07_08.XPT\");\n",
    "\n",
    "alc_final = combinedata(alc_2017_2020,alc_2015_2016,alc_2013_2014,alc_2011_2012,alc_2009_2010,alc_2007_2008)"
   ]
  },
  {
   "cell_type": "code",
   "execution_count": 26,
   "id": "9a84b4d6",
   "metadata": {},
   "outputs": [
    {
     "name": "stdout",
     "output_type": "stream",
     "text": [
      "Index(['SEQN', 'ALQ111', 'ALQ121', 'ALQ130', 'ALQ142', 'ALQ270', 'ALQ280',\n",
      "       'ALQ290', 'ALQ151', 'ALQ170'],\n",
      "      dtype='object')\n",
      "Index(['SEQN', 'ALQ101', 'ALQ110', 'ALQ120Q', 'ALQ120U', 'ALQ130', 'ALQ141Q',\n",
      "       'ALQ141U', 'ALQ151', 'ALQ160'],\n",
      "      dtype='object')\n",
      "Index(['SEQN', 'ALQ101', 'ALQ110', 'ALQ120Q', 'ALQ120U', 'ALQ130', 'ALQ141Q',\n",
      "       'ALQ141U', 'ALQ151', 'ALQ160'],\n",
      "      dtype='object')\n"
     ]
    }
   ],
   "source": [
    "print(alc_2017_2020.columns)\n",
    "print(alc_2015_2016.columns)\n",
    "print(alc_2013_2014.columns)"
   ]
  },
  {
   "cell_type": "code",
   "execution_count": null,
   "id": "df4e3486",
   "metadata": {},
   "outputs": [],
   "source": []
  },
  {
   "cell_type": "code",
   "execution_count": 27,
   "id": "4c3bcd5f",
   "metadata": {},
   "outputs": [
    {
     "name": "stdout",
     "output_type": "stream",
     "text": [
      "{'LBDTCSI', 'SEQN', 'LBXTC'}\n"
     ]
    }
   ],
   "source": [
    "#total cholesterol data\n",
    "\n",
    "tchol_2017_2020 = pd.read_sas(\"./cholesterol/tchol_17_20.XPT\");\n",
    "tchol_2015_2016 = pd.read_sas(\"./cholesterol/tchol_15_16.XPT\");\n",
    "tchol_2013_2014 = pd.read_sas(\"./cholesterol/tchol_13_14.XPT\");\n",
    "tchol_2011_2012 = pd.read_sas(\"./cholesterol/tchol_11_12.XPT\");\n",
    "tchol_2009_2010 = pd.read_sas(\"./cholesterol/tchol_09_10.XPT\");\n",
    "tchol_2007_2008 = pd.read_sas(\"./cholesterol/tchol_07_08.XPT\");\n",
    "\n",
    "tchol_final = combinedata(tchol_2017_2020,tchol_2015_2016,tchol_2013_2014,tchol_2011_2012,tchol_2009_2010,tchol_2007_2008)"
   ]
  },
  {
   "cell_type": "code",
   "execution_count": null,
   "id": "1727fc64",
   "metadata": {},
   "outputs": [],
   "source": []
  },
  {
   "cell_type": "code",
   "execution_count": 28,
   "id": "98d5e0d7",
   "metadata": {},
   "outputs": [
    {
     "name": "stdout",
     "output_type": "stream",
     "text": [
      "{'DIQ350U', 'DIQ010', 'DIQ060U', 'DID250', 'DIQ160', 'DIQ080', 'DIQ260U', 'DIQ360', 'DIQ050', 'DID350', 'DID040', 'DID060', 'SEQN', 'DIQ240', 'DID260', 'DIQ180', 'DIQ230'}\n"
     ]
    }
   ],
   "source": [
    "#diabetes data\n",
    "\n",
    "di_2017_2020 = pd.read_sas(\"./diabetes/diabetes_17_20.XPT\");\n",
    "di_2015_2016 = pd.read_sas(\"./diabetes/diabetes_15_16.XPT\");\n",
    "di_2013_2014 = pd.read_sas(\"./diabetes/diabetes_13_14.XPT\");\n",
    "di_2011_2012 = pd.read_sas(\"./diabetes/diabetes_11_12.XPT\");\n",
    "di_2009_2010 = pd.read_sas(\"./diabetes/diabetes_09_10.XPT\");\n",
    "di_2007_2008 = pd.read_sas(\"./diabetes/diabetes_07_08.XPT\");\n",
    "\n",
    "diabetes_final = combinedata(di_2017_2020,di_2015_2016,di_2013_2014,di_2011_2012,di_2009_2010,di_2007_2008)"
   ]
  },
  {
   "cell_type": "code",
   "execution_count": null,
   "id": "76952396",
   "metadata": {},
   "outputs": [],
   "source": []
  },
  {
   "cell_type": "code",
   "execution_count": 29,
   "id": "e0f9868a",
   "metadata": {},
   "outputs": [
    {
     "name": "stdout",
     "output_type": "stream",
     "text": [
      "{'INDFMMPC', 'INDFMMPI', 'SEQN'}\n"
     ]
    }
   ],
   "source": [
    "#income data\n",
    "\n",
    "inc_2017_2020 = pd.read_sas(\"./income/inc_17_20.XPT\");\n",
    "inc_2015_2016 = pd.read_sas(\"./income/inc_15_16.XPT\");\n",
    "inc_2013_2014 = pd.read_sas(\"./income/inc_13_14.XPT\");\n",
    "inc_2011_2012 = pd.read_sas(\"./income/inc_11_12.XPT\");\n",
    "inc_2009_2010 = pd.read_sas(\"./income/inc_09_10.XPT\");\n",
    "inc_2007_2008 = pd.read_sas(\"./income/inc_07_08.XPT\");\n",
    "\n",
    "income_final = combinedata(inc_2017_2020,inc_2015_2016,inc_2013_2014,inc_2011_2012,inc_2009_2010,inc_2007_2008)"
   ]
  },
  {
   "cell_type": "code",
   "execution_count": null,
   "id": "bffe0d5d",
   "metadata": {},
   "outputs": [],
   "source": []
  },
  {
   "cell_type": "code",
   "execution_count": 30,
   "id": "fe50b1a3",
   "metadata": {},
   "outputs": [
    {
     "name": "stdout",
     "output_type": "stream",
     "text": [
      "{'KIQ044', 'KIQ005', 'KIQ050', 'KIQ025', 'KIQ010', 'KIQ430', 'KIQ480', 'KIQ042', 'KIQ052', 'KIQ022', 'SEQN', 'KIQ450', 'KIQ046', 'KIQ026', 'KIQ470'}\n"
     ]
    }
   ],
   "source": [
    "#kidney disease data\n",
    "\n",
    "kid_2017_2020 = pd.read_sas(\"./kidney/kidney_17_20.XPT\");\n",
    "kid_2015_2016 = pd.read_sas(\"./kidney/kidney_15_16.XPT\");\n",
    "kid_2013_2014 = pd.read_sas(\"./kidney/kidney_13_14.XPT\");\n",
    "kid_2011_2012 = pd.read_sas(\"./kidney/kidney_11_12.XPT\");\n",
    "kid_2009_2010 = pd.read_sas(\"./kidney/kidney_09_10.XPT\");\n",
    "kid_2007_2008 = pd.read_sas(\"./kidney/kidney_07_08.XPT\");\n",
    "\n",
    "kidney_final = combinedata(kid_2017_2020,kid_2015_2016,kid_2013_2014,kid_2011_2012,kid_2009_2010,kid_2007_2008)"
   ]
  },
  {
   "cell_type": "code",
   "execution_count": null,
   "id": "15d65183",
   "metadata": {},
   "outputs": [],
   "source": []
  },
  {
   "cell_type": "code",
   "execution_count": 31,
   "id": "d255b9d4",
   "metadata": {},
   "outputs": [
    {
     "name": "stdout",
     "output_type": "stream",
     "text": [
      "{'PAQ625', 'PAQ670', 'PAD660', 'PAQ610', 'PAQ620', 'PAQ655', 'PAD675', 'PAD680', 'PAQ635', 'PAQ605', 'PAD615', 'PAD630', 'PAQ650', 'SEQN', 'PAD645', 'PAQ665', 'PAQ640'}\n"
     ]
    }
   ],
   "source": [
    "#physical activity data\n",
    "\n",
    "pa_2017_2020 = pd.read_sas(\"./physical activity/pa_17_20.XPT\");\n",
    "pa_2015_2016 = pd.read_sas(\"./physical activity/pa_15_16.XPT\");\n",
    "pa_2013_2014 = pd.read_sas(\"./physical activity/pa_13_14.XPT\");\n",
    "pa_2011_2012 = pd.read_sas(\"./physical activity/pa_11_12.XPT\");\n",
    "pa_2009_2010 = pd.read_sas(\"./physical activity/pa_09_10.XPT\");\n",
    "pa_2007_2008 = pd.read_sas(\"./physical activity/pa_07_08.XPT\");\n",
    "\n",
    "pa_final = combinedata(pa_2017_2020,pa_2015_2016,pa_2013_2014,pa_2011_2012,pa_2009_2010,pa_2007_2008)"
   ]
  },
  {
   "cell_type": "code",
   "execution_count": null,
   "id": "268d80bb",
   "metadata": {},
   "outputs": [],
   "source": []
  },
  {
   "cell_type": "code",
   "execution_count": 32,
   "id": "50794637",
   "metadata": {},
   "outputs": [
    {
     "name": "stdout",
     "output_type": "stream",
     "text": [
      "{'SMQ020', 'SMD100FL', 'SMD057', 'SMQ050Q', 'SMD641', 'SMQ040', 'SMD100MN', 'SMQ670', 'SMD650', 'SEQN', 'SMD030', 'SMQ050U', 'SMAQUEX2', 'SMD630'}\n"
     ]
    }
   ],
   "source": [
    "#smoking status data\n",
    "\n",
    "smoke_2017_2020 = pd.read_sas(\"./smoke/smoke_17_20.XPT\");\n",
    "smoke_2015_2016 = pd.read_sas(\"./smoke/smoke_15_16.XPT\");\n",
    "smoke_2013_2014 = pd.read_sas(\"./smoke/smoke_13_14.XPT\");\n",
    "smoke_2011_2012 = pd.read_sas(\"./smoke/smoke_11_12.XPT\");\n",
    "smoke_2009_2010 = pd.read_sas(\"./smoke/smoke_09_10.XPT\");\n",
    "smoke_2007_2008 = pd.read_sas(\"./smoke/smoke_07_08.XPT\");\n",
    "\n",
    "smoke_final = combinedata(smoke_2017_2020,smoke_2015_2016,smoke_2013_2014,smoke_2011_2012,smoke_2009_2010,smoke_2007_2008)"
   ]
  },
  {
   "cell_type": "code",
   "execution_count": null,
   "id": "0eabf9e8",
   "metadata": {},
   "outputs": [],
   "source": []
  },
  {
   "cell_type": "code",
   "execution_count": 33,
   "id": "0dc8ba62",
   "metadata": {},
   "outputs": [
    {
     "name": "stdout",
     "output_type": "stream",
     "text": [
      "{'LBDLDL', 'LBDTRSI', 'LBDLDLSI', 'SEQN', 'LBXTR'}\n"
     ]
    }
   ],
   "source": [
    "#triglycerides data\n",
    "#2017-2020 data have some different columns\n",
    "\n",
    "trigly_2017_2020 = pd.read_sas(\"./triglycerides/trigly_17_20.XPT\");\n",
    "trigly_2015_2016 = pd.read_sas(\"./triglycerides/trigly_15_16.XPT\");\n",
    "trigly_2013_2014 = pd.read_sas(\"./triglycerides/trigly_13_14.XPT\");\n",
    "trigly_2011_2012 = pd.read_sas(\"./triglycerides/trigly_11_12.XPT\");\n",
    "trigly_2009_2010 = pd.read_sas(\"./triglycerides/trigly_09_10.XPT\");\n",
    "trigly_2007_2008 = pd.read_sas(\"./triglycerides/trigly_07_08.XPT\");\n",
    "\n",
    "trigly_final = combinedata(trigly_2017_2020,trigly_2015_2016,trigly_2013_2014,trigly_2011_2012,trigly_2009_2010,trigly_2007_2008)"
   ]
  },
  {
   "cell_type": "code",
   "execution_count": 34,
   "id": "cd290e08",
   "metadata": {},
   "outputs": [
    {
     "name": "stdout",
     "output_type": "stream",
     "text": [
      "Index(['SEQN', 'WTSAFPRP', 'LBXTR', 'LBDTRSI', 'LBDLDL', 'LBDLDLSI', 'LBDLDLM',\n",
      "       'LBDLDMSI', 'LBDLDLN', 'LBDLDNSI'],\n",
      "      dtype='object')\n",
      "Index(['SEQN', 'WTSAF2YR', 'LBXTR', 'LBDTRSI', 'LBDLDL', 'LBDLDLSI'], dtype='object')\n",
      "Index(['SEQN', 'WTSAF2YR', 'LBXTR', 'LBDTRSI', 'LBDLDL', 'LBDLDLSI'], dtype='object')\n"
     ]
    }
   ],
   "source": [
    "print(trigly_2017_2020.columns)\n",
    "print(trigly_2015_2016.columns)\n",
    "print(trigly_2013_2014.columns)"
   ]
  },
  {
   "cell_type": "code",
   "execution_count": null,
   "id": "e0920958",
   "metadata": {},
   "outputs": [],
   "source": []
  },
  {
   "cell_type": "code",
   "execution_count": 35,
   "id": "d05fb05f",
   "metadata": {},
   "outputs": [
    {
     "name": "stdout",
     "output_type": "stream",
     "text": [
      "{'BMDSTATS', 'BMIARMC', 'BMIHT', 'BMIRECUM', 'BMXBMI', 'BMXARMC', 'BMXRECUM', 'BMIARML', 'BMILEG', 'BMXHEAD', 'BMXHT', 'BMIHEAD', 'SEQN', 'BMXWAIST', 'BMIWAIST', 'BMIWT', 'BMXWT', 'BMXLEG', 'BMXARML'}\n"
     ]
    }
   ],
   "source": [
    "#weight data\n",
    "\n",
    "weight_2017_2020 = pd.read_sas(\"./weight/weight_17_20.XPT\");\n",
    "weight_2015_2016 = pd.read_sas(\"./weight/weight_15_16.XPT\");\n",
    "weight_2013_2014 = pd.read_sas(\"./weight/weight_13_14.XPT\");\n",
    "weight_2011_2012 = pd.read_sas(\"./weight/weight_11_12.XPT\");\n",
    "weight_2009_2010 = pd.read_sas(\"./weight/weight_09_10.XPT\");\n",
    "weight_2007_2008 = pd.read_sas(\"./weight/weight_07_08.XPT\");\n",
    "\n",
    "weight_final = combinedata(weight_2017_2020,weight_2015_2016,weight_2013_2014,weight_2011_2012,weight_2009_2010,weight_2007_2008)"
   ]
  },
  {
   "cell_type": "code",
   "execution_count": 80,
   "id": "72cea390",
   "metadata": {},
   "outputs": [],
   "source": [
    "#blood pressure reading\n",
    "#2017-2020 data have different column names\n",
    "\n",
    "bprdg_2017_2020 = pd.read_sas(\"./blood pressure reading/bp_rdg_os_17_20.XPT\");\n",
    "bprdg_2015_2016 = pd.read_sas(\"./blood pressure reading/bp_rdg_15_16.XPT\");\n",
    "bprdg_2013_2014 = pd.read_sas(\"./blood pressure reading/bp_rdg_13_14.XPT\");\n",
    "bprdg_2011_2012 = pd.read_sas(\"./blood pressure reading/bp_rdg_11_12.XPT\");\n",
    "bprdg_2009_2010 = pd.read_sas(\"./blood pressure reading/bp_rdg_09_10.XPT\");\n",
    "bprdg_2007_2008 = pd.read_sas(\"./blood pressure reading/bp_rdg_07_08.XPT\");"
   ]
  },
  {
   "cell_type": "code",
   "execution_count": 81,
   "id": "363beb07",
   "metadata": {},
   "outputs": [
    {
     "name": "stdout",
     "output_type": "stream",
     "text": [
      "Index(['SEQN', 'BPAOARM', 'BPAOCSZ', 'BPXOSY1', 'BPXODI1', 'BPXOSY2',\n",
      "       'BPXODI2', 'BPXOSY3', 'BPXODI3', 'BPXOPLS1', 'BPXOPLS2', 'BPXOPLS3'],\n",
      "      dtype='object')\n",
      "Index(['SEQN', 'PEASCCT1', 'BPXCHR', 'BPAARM', 'BPACSZ', 'BPXPLS', 'BPXPULS',\n",
      "       'BPXPTY', 'BPXML1', 'BPXSY1', 'BPXDI1', 'BPAEN1', 'BPXSY2', 'BPXDI2',\n",
      "       'BPAEN2', 'BPXSY3', 'BPXDI3', 'BPAEN3', 'BPXSY4', 'BPXDI4', 'BPAEN4'],\n",
      "      dtype='object')\n"
     ]
    }
   ],
   "source": [
    "print(bprdg_2017_2020.columns)\n",
    "print(bprdg_2015_2016.columns)"
   ]
  },
  {
   "cell_type": "code",
   "execution_count": 82,
   "id": "0b2649b3",
   "metadata": {},
   "outputs": [],
   "source": [
    "def combinedata_v2(_2015_2016,_2013_2014,_2011_2012,_2009_2010,_2007_2008):\n",
    "    _15_16_list = _2015_2016.columns.tolist()\n",
    "    _13_14_list = _2013_2014.columns.tolist()\n",
    "    _11_12_list = _2011_2012.columns.tolist()\n",
    "    _09_10_list = _2009_2010.columns.tolist()\n",
    "    _07_08_list = _2007_2008.columns.tolist()\n",
    "    \n",
    "    intersect_col = set(_15_16_list).intersection(_13_14_list).intersection(_11_12_list).intersection(_09_10_list).intersection(_07_08_list)\n",
    "    \n",
    "    _15_16_filtered = pd.DataFrame(_2015_2016, columns=intersect_col)\n",
    "    _13_14_filtered = pd.DataFrame(_2013_2014, columns=intersect_col)\n",
    "    _11_12_filtered = pd.DataFrame(_2011_2012, columns=intersect_col)\n",
    "    _09_10_filtered = pd.DataFrame(_2009_2010, columns=intersect_col)\n",
    "    _07_08_filtered = pd.DataFrame(_2007_2008, columns=intersect_col)\n",
    "    print(intersect_col)\n",
    "    \n",
    "    _final = _15_16_filtered.append(_13_14_filtered)\n",
    "    _final = _final.append(_11_12_filtered)\n",
    "    _final = _final.append(_09_10_filtered)\n",
    "    _final = _final.append(_07_08_filtered)\n",
    "    \n",
    "    return _final"
   ]
  },
  {
   "cell_type": "code",
   "execution_count": 83,
   "id": "ade08c26",
   "metadata": {},
   "outputs": [],
   "source": [
    "col= bprdg_2017_2020.loc[:,'BPXOPLS1':'BPXOPLS3']\n",
    "\n",
    "bprdg_2017_2020['BPXPLS']= col.mean(axis=1)"
   ]
  },
  {
   "cell_type": "code",
   "execution_count": 84,
   "id": "ac8f5dc2",
   "metadata": {},
   "outputs": [
    {
     "name": "stdout",
     "output_type": "stream",
     "text": [
      "{'BPXDI3', 'BPAEN4', 'BPXDI2', 'BPAEN1', 'BPXPLS', 'BPAEN3', 'BPXPTY', 'BPXSY3', 'BPACSZ', 'BPAARM', 'BPXDI1', 'BPXDI4', 'BPXSY1', 'BPXCHR', 'PEASCCT1', 'SEQN', 'BPAEN2', 'BPXML1', 'BPXSY2', 'BPXSY4', 'BPXPULS'}\n"
     ]
    }
   ],
   "source": [
    "bprdg_final= combinedata_v2(bprdg_2015_2016,bprdg_2013_2014,bprdg_2011_2012,bprdg_2009_2010,bprdg_2007_2008)\n",
    "bprdg_final= bprdg_final.append(bprdg_2017_2020)"
   ]
  },
  {
   "cell_type": "code",
   "execution_count": 86,
   "id": "faf06a72",
   "metadata": {},
   "outputs": [
    {
     "data": {
      "text/plain": [
       "Index(['BPXDI3', 'BPAEN4', 'BPXDI2', 'BPAEN1', 'BPXPLS', 'BPAEN3', 'BPXPTY',\n",
       "       'BPXSY3', 'BPACSZ', 'BPAARM', 'BPXDI1', 'BPXDI4', 'BPXSY1', 'BPXCHR',\n",
       "       'PEASCCT1', 'SEQN', 'BPAEN2', 'BPXML1', 'BPXSY2', 'BPXSY4', 'BPXPULS',\n",
       "       'BPAOARM', 'BPAOCSZ', 'BPXOSY1', 'BPXODI1', 'BPXOSY2', 'BPXODI2',\n",
       "       'BPXOSY3', 'BPXODI3', 'BPXOPLS1', 'BPXOPLS2', 'BPXOPLS3'],\n",
       "      dtype='object')"
      ]
     },
     "execution_count": 86,
     "metadata": {},
     "output_type": "execute_result"
    }
   ],
   "source": [
    "bprdg_final.columns"
   ]
  },
  {
   "cell_type": "code",
   "execution_count": 95,
   "id": "019b9f3b",
   "metadata": {},
   "outputs": [],
   "source": [
    "final_df= pd.merge(demo_final, diet_final,on=['SEQN'])\n",
    "final_df= pd.merge(final_df, alc_final,on=['SEQN'])\n",
    "final_df= pd.merge(final_df, tchol_final,on=['SEQN'])\n",
    "final_df= pd.merge(final_df, diabetes_final,on=['SEQN'])\n",
    "final_df= pd.merge(final_df, income_final,on=['SEQN'])\n",
    "final_df= pd.merge(final_df, kidney_final,on=['SEQN'])\n",
    "final_df= pd.merge(final_df, pa_final,on=['SEQN'])\n",
    "final_df= pd.merge(final_df, smoke_final, on=['SEQN'])\n",
    "final_df= pd.merge(final_df, trigly_final, on=['SEQN'])\n",
    "final_df= pd.merge(final_df, weight_final, on=['SEQN'])\n",
    "final_df= pd.merge(final_df, bprdg_final, on=['SEQN'])\n",
    "final_df= pd.merge(final_df, bp_final, on=['SEQN'])\n"
   ]
  },
  {
   "cell_type": "code",
   "execution_count": 96,
   "id": "ba37a53d",
   "metadata": {},
   "outputs": [
    {
     "data": {
      "text/plain": [
       "(17847, 186)"
      ]
     },
     "execution_count": 96,
     "metadata": {},
     "output_type": "execute_result"
    }
   ],
   "source": [
    "final_df.shape"
   ]
  },
  {
   "cell_type": "code",
   "execution_count": null,
   "id": "bba709c1",
   "metadata": {},
   "outputs": [],
   "source": []
  },
  {
   "cell_type": "code",
   "execution_count": null,
   "id": "97b198a6",
   "metadata": {},
   "outputs": [],
   "source": []
  }
 ],
 "metadata": {
  "kernelspec": {
   "display_name": "Python 3",
   "language": "python",
   "name": "python3"
  },
  "language_info": {
   "codemirror_mode": {
    "name": "ipython",
    "version": 3
   },
   "file_extension": ".py",
   "mimetype": "text/x-python",
   "name": "python",
   "nbconvert_exporter": "python",
   "pygments_lexer": "ipython3",
   "version": "3.8.8"
  }
 },
 "nbformat": 4,
 "nbformat_minor": 5
}

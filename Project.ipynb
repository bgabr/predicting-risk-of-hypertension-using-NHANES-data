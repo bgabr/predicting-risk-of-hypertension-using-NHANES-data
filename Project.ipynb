{
 "cells": [
  {
   "cell_type": "code",
   "execution_count": 1,
   "id": "339a87c5",
   "metadata": {},
   "outputs": [],
   "source": [
    "import pandas as pd"
   ]
  },
  {
   "cell_type": "code",
   "execution_count": 111,
   "id": "43bf9a19",
   "metadata": {},
   "outputs": [],
   "source": [
    "demo_2017_2020 = pd.read_sas(\"./demographic/demo_2017_2020.XPT\");\n",
    "demo_2015_2016 = pd.read_sas(\"./demographic/demo_2015_2016.XPT\");\n",
    "demo_2013_2014 = pd.read_sas(\"./demographic/demo_2013_2014.XPT\");\n",
    "demo_2011_2012 = pd.read_sas(\"./demographic/demo_2011_2012.XPT\");\n",
    "demo_2009_2010 = pd.read_sas(\"./demographic/demo_2009_2010.XPT\");\n",
    "demo_2007_2008 = pd.read_sas(\"./demographic/demo_2007_2008.XPT\");"
   ]
  },
  {
   "cell_type": "code",
   "execution_count": null,
   "id": "b92f41a6",
   "metadata": {},
   "outputs": [],
   "source": []
  },
  {
   "cell_type": "code",
   "execution_count": 112,
   "id": "346f7755",
   "metadata": {},
   "outputs": [],
   "source": [
    "demo_17_20_list = demo_2017_2020.columns.tolist()"
   ]
  },
  {
   "cell_type": "code",
   "execution_count": 113,
   "id": "d537a3ca",
   "metadata": {},
   "outputs": [],
   "source": [
    "demo_15_16_list = demo_2015_2016.columns.tolist()"
   ]
  },
  {
   "cell_type": "code",
   "execution_count": 114,
   "id": "5289e679",
   "metadata": {},
   "outputs": [],
   "source": [
    "demo_13_14_list = demo_2013_2014.columns.tolist()"
   ]
  },
  {
   "cell_type": "code",
   "execution_count": 115,
   "id": "6c14163e",
   "metadata": {},
   "outputs": [],
   "source": [
    "demo_11_12_list = demo_2011_2012.columns.tolist()"
   ]
  },
  {
   "cell_type": "code",
   "execution_count": 116,
   "id": "97372ba7",
   "metadata": {},
   "outputs": [],
   "source": [
    "demo_09_10_list = demo_2009_2010.columns.tolist()"
   ]
  },
  {
   "cell_type": "code",
   "execution_count": 117,
   "id": "cbdda8cd",
   "metadata": {},
   "outputs": [],
   "source": [
    "demo_07_08_list = demo_2007_2008.columns.tolist()"
   ]
  },
  {
   "cell_type": "code",
   "execution_count": 118,
   "id": "027bc313",
   "metadata": {},
   "outputs": [],
   "source": [
    "intersect_col = set(demo_17_20_list).intersection(demo_15_16_list).intersection(demo_13_14_list).intersection(demo_11_12_list).intersection(demo_09_10_list).intersection(demo_07_08_list)"
   ]
  },
  {
   "cell_type": "code",
   "execution_count": 68,
   "id": "9ccabad3",
   "metadata": {},
   "outputs": [],
   "source": [
    "#intersect_col"
   ]
  },
  {
   "cell_type": "code",
   "execution_count": 119,
   "id": "df87c192",
   "metadata": {},
   "outputs": [
    {
     "data": {
      "text/plain": [
       "15560"
      ]
     },
     "execution_count": 119,
     "metadata": {},
     "output_type": "execute_result"
    }
   ],
   "source": [
    "demo_17_20_filtered = pd.DataFrame(demo_2017_2020, columns=intersect_col)\n",
    "demo_17_20_filtered.shape[0]"
   ]
  },
  {
   "cell_type": "code",
   "execution_count": 120,
   "id": "2e303f4b",
   "metadata": {},
   "outputs": [
    {
     "data": {
      "text/plain": [
       "9971"
      ]
     },
     "execution_count": 120,
     "metadata": {},
     "output_type": "execute_result"
    }
   ],
   "source": [
    "demo_15_16_filtered = pd.DataFrame(demo_2015_2016, columns=intersect_col)\n",
    "demo_15_16_filtered.shape[0]"
   ]
  },
  {
   "cell_type": "code",
   "execution_count": 121,
   "id": "e201b99f",
   "metadata": {},
   "outputs": [
    {
     "data": {
      "text/plain": [
       "10175"
      ]
     },
     "execution_count": 121,
     "metadata": {},
     "output_type": "execute_result"
    }
   ],
   "source": [
    "demo_13_14_filtered = pd.DataFrame(demo_2013_2014, columns=intersect_col)\n",
    "demo_13_14_filtered.shape[0]"
   ]
  },
  {
   "cell_type": "code",
   "execution_count": 122,
   "id": "479c5037",
   "metadata": {},
   "outputs": [
    {
     "data": {
      "text/plain": [
       "9756"
      ]
     },
     "execution_count": 122,
     "metadata": {},
     "output_type": "execute_result"
    }
   ],
   "source": [
    "demo_11_12_filtered = pd.DataFrame(demo_2011_2012, columns=intersect_col)\n",
    "demo_11_12_filtered.shape[0]"
   ]
  },
  {
   "cell_type": "code",
   "execution_count": 123,
   "id": "91eec748",
   "metadata": {},
   "outputs": [
    {
     "data": {
      "text/plain": [
       "10537"
      ]
     },
     "execution_count": 123,
     "metadata": {},
     "output_type": "execute_result"
    }
   ],
   "source": [
    "demo_09_10_filtered = pd.DataFrame(demo_2009_2010, columns=intersect_col)\n",
    "demo_09_10_filtered.shape[0]"
   ]
  },
  {
   "cell_type": "code",
   "execution_count": 124,
   "id": "a2ddc1a0",
   "metadata": {},
   "outputs": [
    {
     "data": {
      "text/plain": [
       "10149"
      ]
     },
     "execution_count": 124,
     "metadata": {},
     "output_type": "execute_result"
    }
   ],
   "source": [
    "demo_07_08_filtered = pd.DataFrame(demo_2007_2008, columns=intersect_col)\n",
    "demo_07_08_filtered.shape[0]"
   ]
  },
  {
   "cell_type": "code",
   "execution_count": 125,
   "id": "26350f65",
   "metadata": {},
   "outputs": [
    {
     "data": {
      "text/plain": [
       "66148"
      ]
     },
     "execution_count": 125,
     "metadata": {},
     "output_type": "execute_result"
    }
   ],
   "source": [
    "demo_final = demo_17_20_filtered.append(demo_15_16_filtered)\n",
    "demo_final = demo_final.append(demo_13_14_filtered)\n",
    "demo_final = demo_final.append(demo_11_12_filtered)\n",
    "demo_final = demo_final.append(demo_09_10_filtered)\n",
    "demo_final = demo_final.append(demo_07_08_filtered)\n",
    "demo_final.shape[0]"
   ]
  },
  {
   "cell_type": "code",
   "execution_count": 126,
   "id": "9d1a25ed",
   "metadata": {},
   "outputs": [
    {
     "data": {
      "text/html": [
       "<div>\n",
       "<style scoped>\n",
       "    .dataframe tbody tr th:only-of-type {\n",
       "        vertical-align: middle;\n",
       "    }\n",
       "\n",
       "    .dataframe tbody tr th {\n",
       "        vertical-align: top;\n",
       "    }\n",
       "\n",
       "    .dataframe thead th {\n",
       "        text-align: right;\n",
       "    }\n",
       "</style>\n",
       "<table border=\"1\" class=\"dataframe\">\n",
       "  <thead>\n",
       "    <tr style=\"text-align: right;\">\n",
       "      <th></th>\n",
       "      <th>SIALANG</th>\n",
       "      <th>FIAPROXY</th>\n",
       "      <th>FIAINTRP</th>\n",
       "      <th>FIALANG</th>\n",
       "      <th>SDMVPSU</th>\n",
       "      <th>SDMVSTRA</th>\n",
       "      <th>RIAGENDR</th>\n",
       "      <th>MIAPROXY</th>\n",
       "      <th>SIAINTRP</th>\n",
       "      <th>RIDAGEYR</th>\n",
       "      <th>...</th>\n",
       "      <th>MIAINTRP</th>\n",
       "      <th>RIDAGEMN</th>\n",
       "      <th>INDFMPIR</th>\n",
       "      <th>SIAPROXY</th>\n",
       "      <th>RIDEXPRG</th>\n",
       "      <th>DMDEDUC2</th>\n",
       "      <th>RIDSTATR</th>\n",
       "      <th>RIDEXMON</th>\n",
       "      <th>SDDSRVYR</th>\n",
       "      <th>SEQN</th>\n",
       "    </tr>\n",
       "  </thead>\n",
       "  <tbody>\n",
       "    <tr>\n",
       "      <th>0</th>\n",
       "      <td>1.0</td>\n",
       "      <td>2.0</td>\n",
       "      <td>2.0</td>\n",
       "      <td>1.0</td>\n",
       "      <td>3.0</td>\n",
       "      <td>156.0</td>\n",
       "      <td>1.0</td>\n",
       "      <td>NaN</td>\n",
       "      <td>2.0</td>\n",
       "      <td>2.0</td>\n",
       "      <td>...</td>\n",
       "      <td>NaN</td>\n",
       "      <td>NaN</td>\n",
       "      <td>4.66</td>\n",
       "      <td>1.0</td>\n",
       "      <td>NaN</td>\n",
       "      <td>NaN</td>\n",
       "      <td>2.0</td>\n",
       "      <td>2.0</td>\n",
       "      <td>66.0</td>\n",
       "      <td>109263.0</td>\n",
       "    </tr>\n",
       "    <tr>\n",
       "      <th>1</th>\n",
       "      <td>1.0</td>\n",
       "      <td>2.0</td>\n",
       "      <td>2.0</td>\n",
       "      <td>1.0</td>\n",
       "      <td>1.0</td>\n",
       "      <td>155.0</td>\n",
       "      <td>2.0</td>\n",
       "      <td>2.0</td>\n",
       "      <td>2.0</td>\n",
       "      <td>13.0</td>\n",
       "      <td>...</td>\n",
       "      <td>2.0</td>\n",
       "      <td>NaN</td>\n",
       "      <td>0.83</td>\n",
       "      <td>1.0</td>\n",
       "      <td>NaN</td>\n",
       "      <td>NaN</td>\n",
       "      <td>2.0</td>\n",
       "      <td>2.0</td>\n",
       "      <td>66.0</td>\n",
       "      <td>109264.0</td>\n",
       "    </tr>\n",
       "    <tr>\n",
       "      <th>2</th>\n",
       "      <td>1.0</td>\n",
       "      <td>2.0</td>\n",
       "      <td>2.0</td>\n",
       "      <td>1.0</td>\n",
       "      <td>1.0</td>\n",
       "      <td>157.0</td>\n",
       "      <td>1.0</td>\n",
       "      <td>NaN</td>\n",
       "      <td>2.0</td>\n",
       "      <td>2.0</td>\n",
       "      <td>...</td>\n",
       "      <td>NaN</td>\n",
       "      <td>NaN</td>\n",
       "      <td>3.06</td>\n",
       "      <td>1.0</td>\n",
       "      <td>NaN</td>\n",
       "      <td>NaN</td>\n",
       "      <td>2.0</td>\n",
       "      <td>2.0</td>\n",
       "      <td>66.0</td>\n",
       "      <td>109265.0</td>\n",
       "    </tr>\n",
       "    <tr>\n",
       "      <th>3</th>\n",
       "      <td>1.0</td>\n",
       "      <td>2.0</td>\n",
       "      <td>2.0</td>\n",
       "      <td>1.0</td>\n",
       "      <td>2.0</td>\n",
       "      <td>168.0</td>\n",
       "      <td>2.0</td>\n",
       "      <td>2.0</td>\n",
       "      <td>2.0</td>\n",
       "      <td>29.0</td>\n",
       "      <td>...</td>\n",
       "      <td>2.0</td>\n",
       "      <td>NaN</td>\n",
       "      <td>5.00</td>\n",
       "      <td>2.0</td>\n",
       "      <td>2.0</td>\n",
       "      <td>5.0</td>\n",
       "      <td>2.0</td>\n",
       "      <td>2.0</td>\n",
       "      <td>66.0</td>\n",
       "      <td>109266.0</td>\n",
       "    </tr>\n",
       "    <tr>\n",
       "      <th>4</th>\n",
       "      <td>1.0</td>\n",
       "      <td>2.0</td>\n",
       "      <td>2.0</td>\n",
       "      <td>1.0</td>\n",
       "      <td>1.0</td>\n",
       "      <td>156.0</td>\n",
       "      <td>2.0</td>\n",
       "      <td>NaN</td>\n",
       "      <td>2.0</td>\n",
       "      <td>21.0</td>\n",
       "      <td>...</td>\n",
       "      <td>NaN</td>\n",
       "      <td>NaN</td>\n",
       "      <td>5.00</td>\n",
       "      <td>2.0</td>\n",
       "      <td>3.0</td>\n",
       "      <td>4.0</td>\n",
       "      <td>1.0</td>\n",
       "      <td>NaN</td>\n",
       "      <td>66.0</td>\n",
       "      <td>109267.0</td>\n",
       "    </tr>\n",
       "  </tbody>\n",
       "</table>\n",
       "<p>5 rows × 22 columns</p>\n",
       "</div>"
      ],
      "text/plain": [
       "   SIALANG  FIAPROXY  FIAINTRP  FIALANG  SDMVPSU  SDMVSTRA  RIAGENDR  \\\n",
       "0      1.0       2.0       2.0      1.0      3.0     156.0       1.0   \n",
       "1      1.0       2.0       2.0      1.0      1.0     155.0       2.0   \n",
       "2      1.0       2.0       2.0      1.0      1.0     157.0       1.0   \n",
       "3      1.0       2.0       2.0      1.0      2.0     168.0       2.0   \n",
       "4      1.0       2.0       2.0      1.0      1.0     156.0       2.0   \n",
       "\n",
       "   MIAPROXY  SIAINTRP  RIDAGEYR  ...  MIAINTRP  RIDAGEMN  INDFMPIR  SIAPROXY  \\\n",
       "0       NaN       2.0       2.0  ...       NaN       NaN      4.66       1.0   \n",
       "1       2.0       2.0      13.0  ...       2.0       NaN      0.83       1.0   \n",
       "2       NaN       2.0       2.0  ...       NaN       NaN      3.06       1.0   \n",
       "3       2.0       2.0      29.0  ...       2.0       NaN      5.00       2.0   \n",
       "4       NaN       2.0      21.0  ...       NaN       NaN      5.00       2.0   \n",
       "\n",
       "   RIDEXPRG  DMDEDUC2  RIDSTATR  RIDEXMON  SDDSRVYR      SEQN  \n",
       "0       NaN       NaN       2.0       2.0      66.0  109263.0  \n",
       "1       NaN       NaN       2.0       2.0      66.0  109264.0  \n",
       "2       NaN       NaN       2.0       2.0      66.0  109265.0  \n",
       "3       2.0       5.0       2.0       2.0      66.0  109266.0  \n",
       "4       3.0       4.0       1.0       NaN      66.0  109267.0  \n",
       "\n",
       "[5 rows x 22 columns]"
      ]
     },
     "execution_count": 126,
     "metadata": {},
     "output_type": "execute_result"
    }
   ],
   "source": [
    "demo_final.head()"
   ]
  },
  {
   "cell_type": "code",
   "execution_count": 128,
   "id": "7dce7a3e",
   "metadata": {},
   "outputs": [
    {
     "data": {
      "text/html": [
       "<div>\n",
       "<style scoped>\n",
       "    .dataframe tbody tr th:only-of-type {\n",
       "        vertical-align: middle;\n",
       "    }\n",
       "\n",
       "    .dataframe tbody tr th {\n",
       "        vertical-align: top;\n",
       "    }\n",
       "\n",
       "    .dataframe thead th {\n",
       "        text-align: right;\n",
       "    }\n",
       "</style>\n",
       "<table border=\"1\" class=\"dataframe\">\n",
       "  <thead>\n",
       "    <tr style=\"text-align: right;\">\n",
       "      <th></th>\n",
       "      <th>SIALANG</th>\n",
       "      <th>FIAPROXY</th>\n",
       "      <th>FIAINTRP</th>\n",
       "      <th>FIALANG</th>\n",
       "      <th>SDMVPSU</th>\n",
       "      <th>SDMVSTRA</th>\n",
       "      <th>RIAGENDR</th>\n",
       "      <th>MIAPROXY</th>\n",
       "      <th>SIAINTRP</th>\n",
       "      <th>RIDAGEYR</th>\n",
       "      <th>...</th>\n",
       "      <th>MIAINTRP</th>\n",
       "      <th>RIDAGEMN</th>\n",
       "      <th>INDFMPIR</th>\n",
       "      <th>SIAPROXY</th>\n",
       "      <th>RIDEXPRG</th>\n",
       "      <th>DMDEDUC2</th>\n",
       "      <th>RIDSTATR</th>\n",
       "      <th>RIDEXMON</th>\n",
       "      <th>SDDSRVYR</th>\n",
       "      <th>SEQN</th>\n",
       "    </tr>\n",
       "  </thead>\n",
       "  <tbody>\n",
       "    <tr>\n",
       "      <th>0</th>\n",
       "      <td>1.0</td>\n",
       "      <td>2.0</td>\n",
       "      <td>2.0</td>\n",
       "      <td>1.0</td>\n",
       "      <td>3.0</td>\n",
       "      <td>156.0</td>\n",
       "      <td>1.0</td>\n",
       "      <td>NaN</td>\n",
       "      <td>2.0</td>\n",
       "      <td>2.0</td>\n",
       "      <td>...</td>\n",
       "      <td>NaN</td>\n",
       "      <td>NaN</td>\n",
       "      <td>4.66</td>\n",
       "      <td>1.0</td>\n",
       "      <td>NaN</td>\n",
       "      <td>NaN</td>\n",
       "      <td>2.0</td>\n",
       "      <td>2.0</td>\n",
       "      <td>66.0</td>\n",
       "      <td>109263.0</td>\n",
       "    </tr>\n",
       "    <tr>\n",
       "      <th>1</th>\n",
       "      <td>1.0</td>\n",
       "      <td>2.0</td>\n",
       "      <td>2.0</td>\n",
       "      <td>1.0</td>\n",
       "      <td>1.0</td>\n",
       "      <td>155.0</td>\n",
       "      <td>2.0</td>\n",
       "      <td>2.0</td>\n",
       "      <td>2.0</td>\n",
       "      <td>13.0</td>\n",
       "      <td>...</td>\n",
       "      <td>2.0</td>\n",
       "      <td>NaN</td>\n",
       "      <td>0.83</td>\n",
       "      <td>1.0</td>\n",
       "      <td>NaN</td>\n",
       "      <td>NaN</td>\n",
       "      <td>2.0</td>\n",
       "      <td>2.0</td>\n",
       "      <td>66.0</td>\n",
       "      <td>109264.0</td>\n",
       "    </tr>\n",
       "    <tr>\n",
       "      <th>2</th>\n",
       "      <td>1.0</td>\n",
       "      <td>2.0</td>\n",
       "      <td>2.0</td>\n",
       "      <td>1.0</td>\n",
       "      <td>1.0</td>\n",
       "      <td>157.0</td>\n",
       "      <td>1.0</td>\n",
       "      <td>NaN</td>\n",
       "      <td>2.0</td>\n",
       "      <td>2.0</td>\n",
       "      <td>...</td>\n",
       "      <td>NaN</td>\n",
       "      <td>NaN</td>\n",
       "      <td>3.06</td>\n",
       "      <td>1.0</td>\n",
       "      <td>NaN</td>\n",
       "      <td>NaN</td>\n",
       "      <td>2.0</td>\n",
       "      <td>2.0</td>\n",
       "      <td>66.0</td>\n",
       "      <td>109265.0</td>\n",
       "    </tr>\n",
       "    <tr>\n",
       "      <th>3</th>\n",
       "      <td>1.0</td>\n",
       "      <td>2.0</td>\n",
       "      <td>2.0</td>\n",
       "      <td>1.0</td>\n",
       "      <td>2.0</td>\n",
       "      <td>168.0</td>\n",
       "      <td>2.0</td>\n",
       "      <td>2.0</td>\n",
       "      <td>2.0</td>\n",
       "      <td>29.0</td>\n",
       "      <td>...</td>\n",
       "      <td>2.0</td>\n",
       "      <td>NaN</td>\n",
       "      <td>5.00</td>\n",
       "      <td>2.0</td>\n",
       "      <td>2.0</td>\n",
       "      <td>5.0</td>\n",
       "      <td>2.0</td>\n",
       "      <td>2.0</td>\n",
       "      <td>66.0</td>\n",
       "      <td>109266.0</td>\n",
       "    </tr>\n",
       "    <tr>\n",
       "      <th>4</th>\n",
       "      <td>1.0</td>\n",
       "      <td>2.0</td>\n",
       "      <td>2.0</td>\n",
       "      <td>1.0</td>\n",
       "      <td>1.0</td>\n",
       "      <td>156.0</td>\n",
       "      <td>2.0</td>\n",
       "      <td>NaN</td>\n",
       "      <td>2.0</td>\n",
       "      <td>21.0</td>\n",
       "      <td>...</td>\n",
       "      <td>NaN</td>\n",
       "      <td>NaN</td>\n",
       "      <td>5.00</td>\n",
       "      <td>2.0</td>\n",
       "      <td>3.0</td>\n",
       "      <td>4.0</td>\n",
       "      <td>1.0</td>\n",
       "      <td>NaN</td>\n",
       "      <td>66.0</td>\n",
       "      <td>109267.0</td>\n",
       "    </tr>\n",
       "  </tbody>\n",
       "</table>\n",
       "<p>5 rows × 22 columns</p>\n",
       "</div>"
      ],
      "text/plain": [
       "   SIALANG  FIAPROXY  FIAINTRP  FIALANG  SDMVPSU  SDMVSTRA  RIAGENDR  \\\n",
       "0      1.0       2.0       2.0      1.0      3.0     156.0       1.0   \n",
       "1      1.0       2.0       2.0      1.0      1.0     155.0       2.0   \n",
       "2      1.0       2.0       2.0      1.0      1.0     157.0       1.0   \n",
       "3      1.0       2.0       2.0      1.0      2.0     168.0       2.0   \n",
       "4      1.0       2.0       2.0      1.0      1.0     156.0       2.0   \n",
       "\n",
       "   MIAPROXY  SIAINTRP  RIDAGEYR  ...  MIAINTRP  RIDAGEMN  INDFMPIR  SIAPROXY  \\\n",
       "0       NaN       2.0       2.0  ...       NaN       NaN      4.66       1.0   \n",
       "1       2.0       2.0      13.0  ...       2.0       NaN      0.83       1.0   \n",
       "2       NaN       2.0       2.0  ...       NaN       NaN      3.06       1.0   \n",
       "3       2.0       2.0      29.0  ...       2.0       NaN      5.00       2.0   \n",
       "4       NaN       2.0      21.0  ...       NaN       NaN      5.00       2.0   \n",
       "\n",
       "   RIDEXPRG  DMDEDUC2  RIDSTATR  RIDEXMON  SDDSRVYR      SEQN  \n",
       "0       NaN       NaN       2.0       2.0      66.0  109263.0  \n",
       "1       NaN       NaN       2.0       2.0      66.0  109264.0  \n",
       "2       NaN       NaN       2.0       2.0      66.0  109265.0  \n",
       "3       2.0       5.0       2.0       2.0      66.0  109266.0  \n",
       "4       3.0       4.0       1.0       NaN      66.0  109267.0  \n",
       "\n",
       "[5 rows x 22 columns]"
      ]
     },
     "execution_count": 128,
     "metadata": {},
     "output_type": "execute_result"
    }
   ],
   "source": [
    "demo_final.head()"
   ]
  },
  {
   "cell_type": "code",
   "execution_count": null,
   "id": "437d6076",
   "metadata": {},
   "outputs": [],
   "source": [
    "diet_2017_2020 = pd.read_sas(\"./demographic/demo_2017_2020.XPT\");\n",
    "diet_2015_2016 = pd.read_sas(\"./demographic/demo_2015_2016.XPT\");\n",
    "diet_2013_2014 = pd.read_sas(\"./demographic/demo_2013_2014.XPT\");\n",
    "diet_2011_2012 = pd.read_sas(\"./demographic/demo_2011_2012.XPT\");\n",
    "diet_2009_2010 = pd.read_sas(\"./demographic/demo_2009_2010.XPT\");\n",
    "diet_2007_2008 = pd.read_sas(\"./demographic/demo_2007_2008.XPT\");"
   ]
  },
  {
   "cell_type": "code",
   "execution_count": null,
   "id": "72611ce6",
   "metadata": {},
   "outputs": [],
   "source": []
  },
  {
   "cell_type": "code",
   "execution_count": 102,
   "id": "b82a8549",
   "metadata": {},
   "outputs": [],
   "source": [
    "def combinedata(_2017_2020,_2015_2016,_2013_2014,_2011_2012,_2009_2010,_2007_2008):\n",
    "    _17_20_list = _2017_2020.columns.tolist()\n",
    "    _15_16_list = _2015_2016.columns.tolist()\n",
    "    _13_14_list = _2013_2014.columns.tolist()\n",
    "    _11_12_list = _2011_2012.columns.tolist()\n",
    "    _09_10_list = _2009_2010.columns.tolist()\n",
    "    _07_08_list = _2007_2008.columns.tolist()\n",
    "    \n",
    "    intersect_col = set(_17_20_list).intersection(_15_16_list).intersection(_13_14_list).intersection(_11_12_list).intersection(_09_10_list).intersection(_07_08_list)\n",
    "    \n",
    "    _17_20_filtered = pd.DataFrame(demo_2017_2020, columns=intersect_col)\n",
    "    _15_16_filtered = pd.DataFrame(demo_2015_2016, columns=intersect_col)\n",
    "    _13_14_filtered = pd.DataFrame(demo_2013_2014, columns=intersect_col)\n",
    "    _11_12_filtered = pd.DataFrame(demo_2011_2012, columns=intersect_col)\n",
    "    _09_10_filtered = pd.DataFrame(demo_2009_2010, columns=intersect_col)\n",
    "    _07_08_filtered = pd.DataFrame(demo_2007_2008, columns=intersect_col)\n",
    "    print(intersect_col)\n",
    "    \n",
    "    _final = _17_20_filtered.append(demo_15_16_filtered)\n",
    "    _final = _final.append(_13_14_filtered)\n",
    "    _final = _final.append(_11_12_filtered)\n",
    "    _final = _final.append(_09_10_filtered)\n",
    "    _final = _final.append(_07_08_filtered)\n",
    "    \n",
    "    return _final"
   ]
  },
  {
   "cell_type": "code",
   "execution_count": null,
   "id": "5dc688ec",
   "metadata": {},
   "outputs": [],
   "source": []
  },
  {
   "cell_type": "code",
   "execution_count": 127,
   "id": "2bfaa8dc",
   "metadata": {},
   "outputs": [
    {
     "name": "stdout",
     "output_type": "stream",
     "text": [
      "{'SIALANG', 'FIAPROXY', 'FIAINTRP', 'FIALANG', 'SDMVPSU', 'SDMVSTRA', 'RIAGENDR', 'MIAPROXY', 'SIAINTRP', 'RIDAGEYR', 'RIDRETH1', 'MIALANG', 'MIAINTRP', 'RIDAGEMN', 'INDFMPIR', 'SIAPROXY', 'RIDEXPRG', 'DMDEDUC2', 'RIDSTATR', 'RIDEXMON', 'SDDSRVYR', 'SEQN'}\n"
     ]
    }
   ],
   "source": [
    "demo_2017_2020 = pd.read_sas(\"./demographic/demo_2017_2020.XPT\");\n",
    "demo_2015_2016 = pd.read_sas(\"./demographic/demo_2015_2016.XPT\");\n",
    "demo_2013_2014 = pd.read_sas(\"./demographic/demo_2013_2014.XPT\");\n",
    "demo_2011_2012 = pd.read_sas(\"./demographic/demo_2011_2012.XPT\");\n",
    "demo_2009_2010 = pd.read_sas(\"./demographic/demo_2009_2010.XPT\");\n",
    "demo_2007_2008 = pd.read_sas(\"./demographic/demo_2007_2008.XPT\");\n",
    "\n",
    "demo_final = combinedata(demo_2017_2020,demo_2015_2016,demo_2013_2014,demo_2011_2012,demo_2009_2010,demo_2007_2008)"
   ]
  },
  {
   "cell_type": "code",
   "execution_count": null,
   "id": "8f2a96d3",
   "metadata": {},
   "outputs": [],
   "source": []
  },
  {
   "cell_type": "code",
   "execution_count": 137,
   "id": "3953a285",
   "metadata": {},
   "outputs": [
    {
     "name": "stdout",
     "output_type": "stream",
     "text": [
      "{'DSQTSUGR', 'DSQTPOTA', 'DSQTFIBE', 'DSQTCARB', 'DSQTKCAL', 'DSQTSELE', 'DSQTMFAT', 'DSQTCALC', 'DSQTLZ', 'DSQTVB1', 'DSQTFA', 'DSQTLYCO', 'DSQTCHOL', 'DSQTIRON', 'DSQTCOPP', 'DSD010', 'DSQTVB2', 'DSDANCNT', 'DSQTSODI', 'DSD010AN', 'DSQTCHL', 'DSQTZINC', 'DSQTPHOS', 'DSQTVK', 'DSQTPFAT', 'DSDCOUNT', 'DSQTNIAC', 'DSQTFDFE', 'DSQTVC', 'DSQTPROT', 'DSQTSFAT', 'DSQTVB6', 'DSQTMAGN', 'DSQTCAFF', 'SEQN', 'DSQTVD', 'DSQTVB12', 'DSQTTFAT'}\n"
     ]
    }
   ],
   "source": [
    "diet_2017_2020 = pd.read_sas(\"./diet/diet_17_20.XPT\");\n",
    "diet_2015_2016 = pd.read_sas(\"./diet/diet_15_16.XPT\");\n",
    "diet_2013_2014 = pd.read_sas(\"./diet/diet_13_14.XPT\");\n",
    "diet_2011_2012 = pd.read_sas(\"./diet/diet_11_12.XPT\");\n",
    "diet_2009_2010 = pd.read_sas(\"./diet/diet_09_10.XPT\");\n",
    "diet_2007_2008 = pd.read_sas(\"./diet/diet_07_08.XPT\");\n",
    "\n"
   ]
  },
  {
   "cell_type": "code",
   "execution_count": 133,
   "id": "d804e793",
   "metadata": {},
   "outputs": [
    {
     "data": {
      "text/plain": [
       "0       24.0\n",
       "1        NaN\n",
       "2        NaN\n",
       "3        NaN\n",
       "4        NaN\n",
       "        ... \n",
       "9966     3.0\n",
       "9967     0.7\n",
       "9968     NaN\n",
       "9969     NaN\n",
       "9970     NaN\n",
       "Name: DSQTSUGR, Length: 9971, dtype: float64"
      ]
     },
     "execution_count": 133,
     "metadata": {},
     "output_type": "execute_result"
    }
   ],
   "source": []
  },
  {
   "cell_type": "code",
   "execution_count": 139,
   "id": "f672869c",
   "metadata": {},
   "outputs": [
    {
     "name": "stdout",
     "output_type": "stream",
     "text": [
      "{'DSQTSUGR', 'DSQTPOTA', 'DSQTFIBE', 'DSQTCARB', 'DSQTKCAL', 'DSQTSELE', 'DSQTMFAT', 'DSQTCALC', 'DSQTLZ', 'DSQTVB1', 'DSQTFA', 'DSQTLYCO', 'DSQTCHOL', 'DSQTIRON', 'DSQTCOPP', 'DSD010', 'DSQTVB2', 'DSDANCNT', 'DSQTSODI', 'DSD010AN', 'DSQTCHL', 'DSQTZINC', 'DSQTPHOS', 'DSQTVK', 'DSQTPFAT', 'DSDCOUNT', 'DSQTNIAC', 'DSQTFDFE', 'DSQTVC', 'DSQTPROT', 'DSQTSFAT', 'DSQTVB6', 'DSQTMAGN', 'DSQTCAFF', 'SEQN', 'DSQTVD', 'DSQTVB12', 'DSQTTFAT'}\n"
     ]
    }
   ],
   "source": [
    "diet_final = combinedata(diet_2015_2016,diet_2015_2016,diet_2013_2014,diet_2011_2012,diet_2009_2010,diet_2007_2008)"
   ]
  }
 ],
 "metadata": {
  "kernelspec": {
   "display_name": "Python 3",
   "language": "python",
   "name": "python3"
  },
  "language_info": {
   "codemirror_mode": {
    "name": "ipython",
    "version": 3
   },
   "file_extension": ".py",
   "mimetype": "text/x-python",
   "name": "python",
   "nbconvert_exporter": "python",
   "pygments_lexer": "ipython3",
   "version": "3.8.8"
  }
 },
 "nbformat": 4,
 "nbformat_minor": 5
}
